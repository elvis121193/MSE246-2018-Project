{
 "cells": [
  {
   "cell_type": "code",
   "execution_count": 7,
   "metadata": {
    "collapsed": true
   },
   "outputs": [],
   "source": [
    "import pandas as pd\n",
    "import numpy as np"
   ]
  },
  {
   "cell_type": "code",
   "execution_count": 117,
   "metadata": {},
   "outputs": [],
   "source": [
    "cleaned_sba = pd.read_csv(\"output.csv\")\n",
    "gdp_by_industry = pd.read_csv(\"../cleaned_data/GDPByIndPct1990-2014.csv\",sep=\"\\t\")\n",
    "hpi_by_state = pd.read_csv(\"../cleaned_data/HPI_State.csv\",sep=\"\\t\")\n",
    "cpi_bread = pd.read_csv(\"../cleaned_data/CPI_Bread_White.csv\",sep=\"\\t\")\n",
    "sp500_yearly = pd.read_csv(\"../cleaned_data/SP500_yearly_return.csv\")"
   ]
  },
  {
   "cell_type": "code",
   "execution_count": 114,
   "metadata": {},
   "outputs": [
    {
     "data": {
      "text/html": [
       "<div>\n",
       "<style>\n",
       "    .dataframe thead tr:only-child th {\n",
       "        text-align: right;\n",
       "    }\n",
       "\n",
       "    .dataframe thead th {\n",
       "        text-align: left;\n",
       "    }\n",
       "\n",
       "    .dataframe tbody tr th {\n",
       "        vertical-align: top;\n",
       "    }\n",
       "</style>\n",
       "<table border=\"1\" class=\"dataframe\">\n",
       "  <thead>\n",
       "    <tr style=\"text-align: right;\">\n",
       "      <th></th>\n",
       "      <th>Line</th>\n",
       "      <th>NAICS Code</th>\n",
       "      <th>Industry</th>\n",
       "      <th>1990</th>\n",
       "      <th>1991</th>\n",
       "      <th>1992</th>\n",
       "      <th>1993</th>\n",
       "      <th>1994</th>\n",
       "      <th>1995</th>\n",
       "      <th>1996</th>\n",
       "      <th>...</th>\n",
       "      <th>2005</th>\n",
       "      <th>2006</th>\n",
       "      <th>2007</th>\n",
       "      <th>2008</th>\n",
       "      <th>2009</th>\n",
       "      <th>2010</th>\n",
       "      <th>2011</th>\n",
       "      <th>2012</th>\n",
       "      <th>2013</th>\n",
       "      <th>2014</th>\n",
       "    </tr>\n",
       "  </thead>\n",
       "  <tbody>\n",
       "    <tr>\n",
       "      <th>0</th>\n",
       "      <td>1</td>\n",
       "      <td>NaN</td>\n",
       "      <td>Gross domestic product</td>\n",
       "      <td>100.0</td>\n",
       "      <td>100.0</td>\n",
       "      <td>100.0</td>\n",
       "      <td>100.0</td>\n",
       "      <td>100.0</td>\n",
       "      <td>100.0</td>\n",
       "      <td>100.0</td>\n",
       "      <td>...</td>\n",
       "      <td>100.0</td>\n",
       "      <td>100.0</td>\n",
       "      <td>100.0</td>\n",
       "      <td>100.0</td>\n",
       "      <td>100.0</td>\n",
       "      <td>100.0</td>\n",
       "      <td>100.0</td>\n",
       "      <td>100.0</td>\n",
       "      <td>100.0</td>\n",
       "      <td>100.0</td>\n",
       "    </tr>\n",
       "    <tr>\n",
       "      <th>1</th>\n",
       "      <td>2</td>\n",
       "      <td>NaN</td>\n",
       "      <td>Private industries</td>\n",
       "      <td>85.5</td>\n",
       "      <td>85.0</td>\n",
       "      <td>85.1</td>\n",
       "      <td>85.3</td>\n",
       "      <td>85.7</td>\n",
       "      <td>85.9</td>\n",
       "      <td>86.3</td>\n",
       "      <td>...</td>\n",
       "      <td>86.8</td>\n",
       "      <td>86.9</td>\n",
       "      <td>86.8</td>\n",
       "      <td>86.4</td>\n",
       "      <td>85.7</td>\n",
       "      <td>85.7</td>\n",
       "      <td>86.0</td>\n",
       "      <td>86.4</td>\n",
       "      <td>86.7</td>\n",
       "      <td>86.9</td>\n",
       "    </tr>\n",
       "    <tr>\n",
       "      <th>2</th>\n",
       "      <td>3</td>\n",
       "      <td>11</td>\n",
       "      <td>Agriculture forestry fishing and hunting</td>\n",
       "      <td>1.6</td>\n",
       "      <td>1.4</td>\n",
       "      <td>1.5</td>\n",
       "      <td>1.3</td>\n",
       "      <td>1.4</td>\n",
       "      <td>1.2</td>\n",
       "      <td>1.4</td>\n",
       "      <td>...</td>\n",
       "      <td>1.0</td>\n",
       "      <td>0.9</td>\n",
       "      <td>1.0</td>\n",
       "      <td>1.0</td>\n",
       "      <td>1.0</td>\n",
       "      <td>1.1</td>\n",
       "      <td>1.3</td>\n",
       "      <td>1.2</td>\n",
       "      <td>1.3</td>\n",
       "      <td>1.2</td>\n",
       "    </tr>\n",
       "    <tr>\n",
       "      <th>3</th>\n",
       "      <td>6</td>\n",
       "      <td>21</td>\n",
       "      <td>Mining</td>\n",
       "      <td>1.5</td>\n",
       "      <td>1.3</td>\n",
       "      <td>1.1</td>\n",
       "      <td>1.1</td>\n",
       "      <td>1.0</td>\n",
       "      <td>1.0</td>\n",
       "      <td>1.1</td>\n",
       "      <td>...</td>\n",
       "      <td>1.7</td>\n",
       "      <td>2.0</td>\n",
       "      <td>2.2</td>\n",
       "      <td>2.7</td>\n",
       "      <td>2.0</td>\n",
       "      <td>2.2</td>\n",
       "      <td>2.6</td>\n",
       "      <td>2.5</td>\n",
       "      <td>2.7</td>\n",
       "      <td>2.8</td>\n",
       "    </tr>\n",
       "    <tr>\n",
       "      <th>4</th>\n",
       "      <td>10</td>\n",
       "      <td>22</td>\n",
       "      <td>Utilities</td>\n",
       "      <td>2.4</td>\n",
       "      <td>2.5</td>\n",
       "      <td>2.5</td>\n",
       "      <td>2.4</td>\n",
       "      <td>2.4</td>\n",
       "      <td>2.3</td>\n",
       "      <td>2.2</td>\n",
       "      <td>...</td>\n",
       "      <td>1.5</td>\n",
       "      <td>1.7</td>\n",
       "      <td>1.6</td>\n",
       "      <td>1.6</td>\n",
       "      <td>1.7</td>\n",
       "      <td>1.8</td>\n",
       "      <td>1.8</td>\n",
       "      <td>1.6</td>\n",
       "      <td>1.6</td>\n",
       "      <td>1.6</td>\n",
       "    </tr>\n",
       "  </tbody>\n",
       "</table>\n",
       "<p>5 rows × 28 columns</p>\n",
       "</div>"
      ],
      "text/plain": [
       "   Line NAICS Code                                    Industry   1990   1991  \\\n",
       "0     1        NaN                      Gross domestic product  100.0  100.0   \n",
       "1     2        NaN                          Private industries   85.5   85.0   \n",
       "2     3         11    Agriculture forestry fishing and hunting    1.6    1.4   \n",
       "3     6         21                                      Mining    1.5    1.3   \n",
       "4    10         22                                   Utilities    2.4    2.5   \n",
       "\n",
       "    1992   1993   1994   1995   1996  ...     2005   2006   2007   2008  \\\n",
       "0  100.0  100.0  100.0  100.0  100.0  ...    100.0  100.0  100.0  100.0   \n",
       "1   85.1   85.3   85.7   85.9   86.3  ...     86.8   86.9   86.8   86.4   \n",
       "2    1.5    1.3    1.4    1.2    1.4  ...      1.0    0.9    1.0    1.0   \n",
       "3    1.1    1.1    1.0    1.0    1.1  ...      1.7    2.0    2.2    2.7   \n",
       "4    2.5    2.4    2.4    2.3    2.2  ...      1.5    1.7    1.6    1.6   \n",
       "\n",
       "    2009   2010   2011   2012   2013   2014  \n",
       "0  100.0  100.0  100.0  100.0  100.0  100.0  \n",
       "1   85.7   85.7   86.0   86.4   86.7   86.9  \n",
       "2    1.0    1.1    1.3    1.2    1.3    1.2  \n",
       "3    2.0    2.2    2.6    2.5    2.7    2.8  \n",
       "4    1.7    1.8    1.8    1.6    1.6    1.6  \n",
       "\n",
       "[5 rows x 28 columns]"
      ]
     },
     "execution_count": 114,
     "metadata": {},
     "output_type": "execute_result"
    }
   ],
   "source": [
    "gdp_by_industry.head()"
   ]
  },
  {
   "cell_type": "code",
   "execution_count": 121,
   "metadata": {
    "scrolled": false
   },
   "outputs": [
    {
     "data": {
      "text/html": [
       "<div>\n",
       "<style>\n",
       "    .dataframe thead tr:only-child th {\n",
       "        text-align: right;\n",
       "    }\n",
       "\n",
       "    .dataframe thead th {\n",
       "        text-align: left;\n",
       "    }\n",
       "\n",
       "    .dataframe tbody tr th {\n",
       "        vertical-align: top;\n",
       "    }\n",
       "</style>\n",
       "<table border=\"1\" class=\"dataframe\">\n",
       "  <thead>\n",
       "    <tr style=\"text-align: right;\">\n",
       "      <th></th>\n",
       "      <th>Year</th>\n",
       "      <th>Average yearly return</th>\n",
       "    </tr>\n",
       "  </thead>\n",
       "  <tbody>\n",
       "    <tr>\n",
       "      <th>0</th>\n",
       "      <td>1990.0</td>\n",
       "      <td>0.180581</td>\n",
       "    </tr>\n",
       "    <tr>\n",
       "      <th>1</th>\n",
       "      <td>1991.0</td>\n",
       "      <td>0.441059</td>\n",
       "    </tr>\n",
       "    <tr>\n",
       "      <th>2</th>\n",
       "      <td>1992.0</td>\n",
       "      <td>0.076905</td>\n",
       "    </tr>\n",
       "    <tr>\n",
       "      <th>3</th>\n",
       "      <td>1993.0</td>\n",
       "      <td>0.090944</td>\n",
       "    </tr>\n",
       "    <tr>\n",
       "      <th>4</th>\n",
       "      <td>1994.0</td>\n",
       "      <td>0.045372</td>\n",
       "    </tr>\n",
       "  </tbody>\n",
       "</table>\n",
       "</div>"
      ],
      "text/plain": [
       "     Year  Average yearly return\n",
       "0  1990.0               0.180581\n",
       "1  1991.0               0.441059\n",
       "2  1992.0               0.076905\n",
       "3  1993.0               0.090944\n",
       "4  1994.0               0.045372"
      ]
     },
     "execution_count": 121,
     "metadata": {},
     "output_type": "execute_result"
    }
   ],
   "source": [
    "gdp_by_industry.fillna(\"NA\")\n",
    "cleaned_sba.columns.values\n",
    "hpi_by_state.head()\n",
    "sp500_yearly.head()"
   ]
  },
  {
   "cell_type": "code",
   "execution_count": 130,
   "metadata": {},
   "outputs": [],
   "source": [
    "sba_w_macroecon = pd.merge(cleaned_sba,sp500_yearly,left_on='ApprovalFiscalYear',right_on='Year',how='left').drop(\"Year\", axis=1).rename(index=str, columns={\"Average yearly return\": \"SP500_Yearly_Return\"})"
   ]
  },
  {
   "cell_type": "code",
   "execution_count": 131,
   "metadata": {},
   "outputs": [],
   "source": [
    "sba_w_macroecon = pd.merge(sba_w_macroecon,cpi_bread,left_on='ApprovalFiscalYear',right_on='Year',how='left').drop(\"Year\", axis=1).rename(index=str, columns={\"Average\": \"CPI\"})"
   ]
  },
  {
   "cell_type": "code",
   "execution_count": 132,
   "metadata": {},
   "outputs": [
    {
     "data": {
      "text/plain": [
       "array(['Unnamed: 0', 'BorrName', 'BorrStreet', 'BorrCity', 'BorrState',\n",
       "       'BorrZip', 'CDC_Name', 'CDC_Street', 'CDC_City', 'CDC_State',\n",
       "       'CDC_Zip', 'ThirdPartyLender_Name', 'ThirdPartyLender_City',\n",
       "       'ThirdPartyLender_State', 'ThirdPartyDollars', 'GrossApproval',\n",
       "       'ApprovalDate', 'ApprovalFiscalYear', 'DeliveryMethod',\n",
       "       'subpgmdesc', 'InitialInterestRate', 'TermInMonths', 'NaicsCode',\n",
       "       'NaicsDescription', 'ProjectCounty', 'ProjectState', 'BusinessType',\n",
       "       'LoanStatus', 'ChargeOffDate', 'GrossChargeOffAmount',\n",
       "       'SP500_Yearly_Return', 'CPI'], dtype=object)"
      ]
     },
     "execution_count": 132,
     "metadata": {},
     "output_type": "execute_result"
    }
   ],
   "source": [
    "sba_w_macroecon.columns.values"
   ]
  },
  {
   "cell_type": "code",
   "execution_count": 133,
   "metadata": {},
   "outputs": [
    {
     "data": {
      "text/plain": [
       "array(['State Abbreviation', 'FIPS', 'Year', 'HPI'], dtype=object)"
      ]
     },
     "execution_count": 133,
     "metadata": {},
     "output_type": "execute_result"
    }
   ],
   "source": [
    "hpi_by_state.columns.values"
   ]
  },
  {
   "cell_type": "code",
   "execution_count": 134,
   "metadata": {},
   "outputs": [],
   "source": [
    "sba_w_macroecon = pd.merge(sba_w_macroecon,hpi_by_state,left_on=['ProjectState','ApprovalFiscalYear'],right_on=['State Abbreviation','Year'],how='left').drop([\"State Abbreviation\",\"Year\",\"FIPS\"], axis=1)"
   ]
  },
  {
   "cell_type": "code",
   "execution_count": 135,
   "metadata": {
    "collapsed": true
   },
   "outputs": [],
   "source": [
    "sba_w_macroecon.to_csv(\"SBA_Macroecon.csv\")"
   ]
  },
  {
   "cell_type": "code",
   "execution_count": 136,
   "metadata": {},
   "outputs": [
    {
     "data": {
      "text/plain": [
       "Index([u'Line', u'NAICS Code', u'Industry', u'1990', u'1991', u'1992', u'1993',\n",
       "       u'1994', u'1995', u'1996', u'1997', u'1998', u'1999', u'2000', u'2001',\n",
       "       u'2002', u'2003', u'2004', u'2005', u'2006', u'2007', u'2008', u'2009',\n",
       "       u'2010', u'2011', u'2012', u'2013', u'2014'],\n",
       "      dtype='object')"
      ]
     },
     "execution_count": 136,
     "metadata": {},
     "output_type": "execute_result"
    }
   ],
   "source": [
    "gdp_by_industry.columns"
   ]
  },
  {
   "cell_type": "code",
   "execution_count": null,
   "metadata": {
    "collapsed": true
   },
   "outputs": [],
   "source": []
  }
 ],
 "metadata": {
  "kernelspec": {
   "display_name": "Python 2",
   "language": "python",
   "name": "python2"
  },
  "language_info": {
   "codemirror_mode": {
    "name": "ipython",
    "version": 2
   },
   "file_extension": ".py",
   "mimetype": "text/x-python",
   "name": "python",
   "nbconvert_exporter": "python",
   "pygments_lexer": "ipython2",
   "version": "2.7.14"
  }
 },
 "nbformat": 4,
 "nbformat_minor": 1
}
