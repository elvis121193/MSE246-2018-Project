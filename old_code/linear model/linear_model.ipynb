{
 "cells": [
  {
   "cell_type": "code",
   "execution_count": 18,
   "metadata": {},
   "outputs": [],
   "source": [
    "# Import relevant libraries\n",
    "import pandas as pd\n",
    "import numpy as np\n",
    "from sklearn.linear_model import Lasso, Ridge\n",
    "\n",
    "%matplotlib inline\n",
    "import matplotlib \n",
    "import matplotlib.pyplot as plt"
   ]
  },
  {
   "cell_type": "code",
   "execution_count": 44,
   "metadata": {},
   "outputs": [],
   "source": [
    "# hyperparameters\n",
    "regression = Ridge\n",
    "# threshold step size for the ROC curve\n",
    "step_size = 0.0001\n",
    "# offset to prevent dividing by 0\n",
    "eps = 10**-8"
   ]
  },
  {
   "cell_type": "code",
   "execution_count": 19,
   "metadata": {},
   "outputs": [
    {
     "name": "stdout",
     "output_type": "stream",
     "text": [
      "BorrCity                              object\n",
      "BorrState                             object\n",
      "BorrZip                               object\n",
      "CDC_City                              object\n",
      "CDC_State                             object\n",
      "CDC_Zip                               object\n",
      "ThirdPartyLender_City                 object\n",
      "ThirdPartyLender_State                object\n",
      "GrossApproval                        float64\n",
      "ApprovalDate                          object\n",
      "ApprovalFiscalYear                     int64\n",
      "DeliveryMethod                        object\n",
      "subpgmdesc                            object\n",
      "TermInMonths                           int64\n",
      "ProjectCounty                         object\n",
      "ProjectState                          object\n",
      "BusinessType                          object\n",
      "LoanStatus                            object\n",
      "ChargeOffDate                         object\n",
      "GrossChargeOffAmount                 float64\n",
      "SP500_Yearly_Return                  float64\n",
      "CPI                                  float64\n",
      "Yearly_Unemployment_Rate             float64\n",
      "Log_GrossApproval_Norm               float64\n",
      "Log_Yearly_Unemployment_Rate_Norm    float64\n",
      "Log_HPI_Norm                         float64\n",
      "ThirdPartyDollars_Norm               float64\n",
      "TermMultipleYear                        bool\n",
      "RepeatBorrower                         int64\n",
      "BankStateneqBorrowerState               bool\n",
      "ProjectStateneqBorrowerState            bool\n",
      "2DigitNaics                           object\n",
      "dtype: object\n"
     ]
    }
   ],
   "source": [
    "# load data\n",
    "train = pd.read_csv(\"data/random_train0314.csv\")\n",
    "test = pd.read_csv(\"data/random_test0314.csv\")\n",
    "val = pd.read_csv(\"data/random_val0314.csv\")\n",
    "\n",
    "print train.dtypes"
   ]
  },
  {
   "cell_type": "code",
   "execution_count": 21,
   "metadata": {},
   "outputs": [
    {
     "name": "stdout",
     "output_type": "stream",
     "text": [
      "17 covariates\n",
      "['BorrState', 'GrossApproval', 'ApprovalFiscalYear', 'subpgmdesc', 'TermInMonths', 'BusinessType', 'SP500_Yearly_Return', 'CPI', 'Log_GrossApproval_Norm', 'Log_Yearly_Unemployment_Rate_Norm', 'Log_HPI_Norm', 'ThirdPartyDollars_Norm', 'TermMultipleYear', 'RepeatBorrower', 'BankStateneqBorrowerState', 'ProjectStateneqBorrowerState', '2DigitNaics']\n"
     ]
    }
   ],
   "source": [
    "# remove variables we don't want\n",
    "c = train.columns.tolist()\n",
    "dropped_columns = ['LoanStatus', 'GrossChargeOffAmount', 'BorrZip', 'CDC_Zip', 'BorrCity',\n",
    "                   'CDC_City', 'ThirdPartyLender_City', 'ProjectCounty', 'ApprovalDate',\n",
    "                   'CDC_State', 'ThirdPartyLender_State', 'ProjectState', 'ChargeOffDate',\n",
    "                   'Yearly_Unemployment_Rate', 'DeliveryMethod']\n",
    "for col in dropped_columns:\n",
    "    c.remove(col)\n",
    "print(len(c)), \"covariates\"\n",
    "print c"
   ]
  },
  {
   "cell_type": "code",
   "execution_count": 22,
   "metadata": {},
   "outputs": [
    {
     "name": "stdout",
     "output_type": "stream",
     "text": [
      "(43844, 17)\n"
     ]
    }
   ],
   "source": [
    "x_train = train[c]\n",
    "x_test = test[c]\n",
    "x_val = val[c]\n",
    "\n",
    "print x_train.shape"
   ]
  },
  {
   "cell_type": "code",
   "execution_count": 23,
   "metadata": {},
   "outputs": [
    {
     "name": "stdout",
     "output_type": "stream",
     "text": [
      "approx. number of covariate levels: 87\n",
      "BorrState       object\n",
      "subpgmdesc      object\n",
      "BusinessType    object\n",
      "2DigitNaics     object\n",
      "dtype: object\n"
     ]
    }
   ],
   "source": [
    "# estimate how many covariates we add by the expanding categorical columns\n",
    "numerics = x_train.select_dtypes(include=[np.number,'bool'])\n",
    "cats = x_train.drop(columns=numerics.columns)\n",
    "\n",
    "uniques = np.unique(cats.values)\n",
    "\n",
    "print \"approx. number of covariate levels:\", len(uniques)\n",
    "print cats.dtypes"
   ]
  },
  {
   "cell_type": "code",
   "execution_count": 24,
   "metadata": {},
   "outputs": [
    {
     "name": "stdout",
     "output_type": "stream",
     "text": [
      "(43844, 101)\n",
      "(43844, 101)\n"
     ]
    }
   ],
   "source": [
    "x_train = pd.get_dummies(x_train, columns = cats.columns)\n",
    "x_test = pd.get_dummies(x_test)\n",
    "x_val = pd.get_dummies(x_val)\n",
    "\n",
    "print x_train.shape\n",
    "\n",
    "def add_missing_columns(d1, d2):\n",
    "    missing_cols_2 = (set(d1.columns) - set(d2.columns))\n",
    "    missing_cols_1 = (set(d2.columns) - set(d1.columns))\n",
    "    for c in missing_cols_2:\n",
    "        d2[c] = 0\n",
    "    for c in missing_cols_1:\n",
    "        d1[c] = 0\n",
    "    return d1, d2\n",
    "\n",
    "x_train, x_test = add_missing_columns(x_train, x_test)\n",
    "x_train, x_val = add_missing_columns(x_train, x_val)\n",
    "x_test, x_val = add_missing_columns(x_test, x_val)\n",
    "\n",
    "# x_train = x_train.astype(float)\n",
    "# x_test = x_test.astype(float)\n",
    "# x_val = x_val.astype(float)\n",
    "\n",
    "print x_train.shape"
   ]
  },
  {
   "cell_type": "code",
   "execution_count": 27,
   "metadata": {},
   "outputs": [
    {
     "name": "stdout",
     "output_type": "stream",
     "text": [
      "['CHGOFF' 'PIF' 'PIF' 'PIF' 'PIF']\n",
      "0.16369400602134843\n"
     ]
    }
   ],
   "source": [
    "# create target variables\n",
    "y_train = (train['LoanStatus'].values == \"CHGOFF\")*1\n",
    "y_test = (test['LoanStatus'].values == \"CHGOFF\")*1\n",
    "y_val = (val['LoanStatus'].values == \"CHGOFF\")*1\n",
    "\n",
    "print train['LoanStatus'].values[:5]\n",
    "print np.sum(y_train == 1, dtype=float) / len(y_train)"
   ]
  },
  {
   "cell_type": "code",
   "execution_count": 31,
   "metadata": {},
   "outputs": [
    {
     "name": "stdout",
     "output_type": "stream",
     "text": [
      "64 : 0.17211237899318166\n"
     ]
    }
   ],
   "source": [
    "# hyperparameter search\n",
    "alpha_range = [2**i for i in range(-5,10)]\n",
    "u_results = {}\n",
    "for alpha in alpha_range:\n",
    "    model = regression(alpha = alpha)\n",
    "    model.fit(x_train, y_train)\n",
    "    u = model.score(x_val,y_val)\n",
    "    u_results[u] = alpha\n",
    "opt_u = np.max(u_results.keys())\n",
    "opt_setting = u_results[opt_u]\n",
    "\n",
    "print opt_setting, \":\", opt_u"
   ]
  },
  {
   "cell_type": "code",
   "execution_count": 39,
   "metadata": {},
   "outputs": [
    {
     "data": {
      "image/png": "[encoded data removed]",
      "text/plain": [
       "<Figure size 432x288 with 1 Axes>"
      ]
     },
     "metadata": {},
     "output_type": "display_data"
    }
   ],
   "source": [
    "plt.title(\"R^2 vs. Weight Decay\")\n",
    "plt.ylabel(\"R^2\")\n",
    "plt.xlabel(\"weight decay\")\n",
    "\n",
    "plt.xscale('log', basex = 2)\n",
    "plt.scatter(u_results.values(), u_results.keys())\n",
    "plt.show()"
   ]
  },
  {
   "cell_type": "code",
   "execution_count": 34,
   "metadata": {
    "scrolled": true
   },
   "outputs": [
    {
     "data": {
      "text/plain": [
       "Ridge(alpha=64, copy_X=True, fit_intercept=True, max_iter=None,\n",
       "   normalize=False, random_state=None, solver='auto', tol=0.001)"
      ]
     },
     "execution_count": 34,
     "metadata": {},
     "output_type": "execute_result"
    }
   ],
   "source": [
    "opt_alpha = opt_setting\n",
    "\n",
    "model = regression(alpha = opt_alpha)\n",
    "model.fit(x_train, y_train)"
   ]
  },
  {
   "cell_type": "code",
   "execution_count": 61,
   "metadata": {},
   "outputs": [
    {
     "name": "stdout",
     "output_type": "stream",
     "text": [
      "Training set performance\n",
      "R^2: 0.22631949105569948\n",
      "L2 loss: 0.10491788669835059\n",
      "\n",
      "Test set performance\n",
      "R^2: 0.16107910607377662\n",
      "L2 loss: 0.10851294034404586\n"
     ]
    }
   ],
   "source": [
    "# train performance\n",
    "print 'Training set performance'\n",
    "print 'R^2:', model.score(x_train, y_train)\n",
    "l2_loss = np.sum((np.maximum(model.predict(x_train),0) - y_train)**2)/len(y_train)\n",
    "print 'L2 loss:', l2_loss \n",
    "\n",
    "# test performance\n",
    "print '\\nTest set performance'\n",
    "print 'R^2:', model.score(x_test, y_test)\n",
    "l2_loss = np.sum((np.maximum(model.predict(x_test),0) - y_test)**2)/len(y_test)\n",
    "print 'L2 loss:', l2_loss"
   ]
  },
  {
   "cell_type": "code",
   "execution_count": 36,
   "metadata": {},
   "outputs": [
    {
     "data": {
      "text/plain": [
       "array([ 0.12317014,  0.34475603,  0.07294155,  0.12434571,  0.1169119 ,\n",
       "        0.04801888,  0.09109369,  0.38907675,  0.46870404,  0.04962448,\n",
       "        0.18406121,  0.04067563,  0.31407968,  0.18377079,  0.1401406 ,\n",
       "        0.04683821,  0.0687392 , -0.04613194,  0.17487301,  0.33984713])"
      ]
     },
     "execution_count": 36,
     "metadata": {},
     "output_type": "execute_result"
    }
   ],
   "source": [
    "model.predict(x_train[:20])"
   ]
  },
  {
   "cell_type": "code",
   "execution_count": 37,
   "metadata": {},
   "outputs": [
    {
     "data": {
      "text/plain": [
       "array([ 0.11156058,  0.00365175,  0.31261274, -0.01632954,  0.39082517,\n",
       "        0.30784704,  0.7960511 ,  0.28056041, -0.13508781, -0.03428113,\n",
       "        0.40810775,  0.35504106,  0.14535111,  0.35509029,  0.2479628 ,\n",
       "        0.08785519,  0.10608985, -0.01723347,  0.16924674,  0.15957149])"
      ]
     },
     "execution_count": 37,
     "metadata": {},
     "output_type": "execute_result"
    }
   ],
   "source": [
    "model.predict(x_test[:20])"
   ]
  },
  {
   "cell_type": "code",
   "execution_count": 62,
   "metadata": {},
   "outputs": [
    {
     "name": "stdout",
     "output_type": "stream",
     "text": [
      "[0.803050397876209, 0.803050397876209, 0.8021662245782446, 0.8019451812537535]\n",
      "[0.9665621734486253, 0.9665621734486253, 0.9665621734486253, 0.9665621734486253]\n"
     ]
    }
   ],
   "source": [
    "# generate ROC curve\n",
    "y_probs_val = np.maximum(model.predict(x_val),0)\n",
    "y_probs_train = np.maximum(model.predict(x_train),0)\n",
    "\n",
    "train_fprs, train_tprs, val_fprs, val_tprs  = [], [], [], []\n",
    "for threshold in np.arange(step_size,1,step_size):\n",
    "    y_preds_val = y_probs_val > threshold\n",
    "    val_fprs.append(np.sum((y_val == 0) * (y_preds_val == 1)) / (np.sum(y_val == 0) + eps))\n",
    "    val_tprs.append(np.sum((y_val == 1) * (y_preds_val == 1)) / (np.sum(y_val == 1) + eps))\n",
    "    \n",
    "    y_preds_train = y_probs_train > threshold\n",
    "    train_fprs.append(np.sum((y_train == 0) * (y_preds_train == 1)) / (np.sum(y_train == 0) + eps))\n",
    "    train_tprs.append(np.sum((y_train == 1) * (y_preds_train == 1)) / (np.sum(y_train == 1) + eps))\n",
    "print val_fprs[:4]\n",
    "print val_tprs[:4]"
   ]
  },
  {
   "cell_type": "code",
   "execution_count": 63,
   "metadata": {},
   "outputs": [
    {
     "data": {
      "image/png": "[encoded data removed]",
      "text/plain": [
       "<Figure size 432x288 with 1 Axes>"
      ]
     },
     "metadata": {},
     "output_type": "display_data"
    }
   ],
   "source": [
    "# plot ROC curve\n",
    "plt.title(\"ROC Curve for Logistic Regression\")\n",
    "plt.ylabel(\"true positive rate\")\n",
    "plt.xlabel(\"false positive rate\")\n",
    "\n",
    "valplt, = plt.plot(val_fprs,val_tprs,label='validation')\n",
    "trainplt, = plt.plot(train_fprs,train_tprs,label='train')\n",
    "plt.legend(handles = [valplt, trainplt])\n",
    "\n",
    "plt.show()"
   ]
  },
  {
   "cell_type": "code",
   "execution_count": 64,
   "metadata": {},
   "outputs": [
    {
     "name": "stdout",
     "output_type": "stream",
     "text": [
      "0.597608297362921\n"
     ]
    }
   ],
   "source": [
    "# calculate AUC\n",
    "auc = 0\n",
    "x_prev = 0\n",
    "for x, y in zip(sorted(val_fprs), sorted(val_tprs)):\n",
    "    auc += (x - x_prev)*y\n",
    "    x_prev = x\n",
    "print auc"
   ]
  },
  {
   "cell_type": "code",
   "execution_count": 66,
   "metadata": {},
   "outputs": [
    {
     "name": "stdout",
     "output_type": "stream",
     "text": [
      "done\n"
     ]
    }
   ],
   "source": [
    "# save ROC curve\n",
    "with open(\"linear_roc.csv\", \"w\") as file:\n",
    "    file.write(\"threshold,fpr,tpr\\n\")\n",
    "    for i, (fpr, tpr) in enumerate(zip(val_fprs, val_tprs), 1):\n",
    "        file.write(str(step_size * i) + \",\" + str(fpr) + \",\" + str(tpr) + \"\\n\")\n",
    "print \"done\""
   ]
  },
  {
   "cell_type": "code",
   "execution_count": 50,
   "metadata": {},
   "outputs": [
    {
     "name": "stdout",
     "output_type": "stream",
     "text": [
      "best threshold:  0.3377\n",
      "highest sensitivity:  0.5339602925754027\n",
      "highest specificity:  0.8740053050400662\n"
     ]
    }
   ],
   "source": [
    "# find best threshold\n",
    "senses = np.array(val_tprs, dtype=float) + eps\n",
    "specs = 1 - np.array(val_fprs, dtype=float) + eps\n",
    "# h_mean = 2. / (1 / senses + 1 / specs)\n",
    "p = np.sum(y_val == 1, dtype=float) / len(y_val)\n",
    "h_mean = 2. / (1 / ((1 - p) * senses) + 1 / (p * specs))\n",
    "opt_index = np.argmax(h_mean)\n",
    "opt_threshold = opt_index*step_size\n",
    "\n",
    "print \"best threshold: \" , opt_threshold\n",
    "print \"highest sensitivity: \", val_tprs[opt_index]\n",
    "print \"highest specificity: \", 1 - val_fprs[opt_index]"
   ]
  },
  {
   "cell_type": "code",
   "execution_count": 52,
   "metadata": {},
   "outputs": [
    {
     "name": "stdout",
     "output_type": "stream",
     "text": [
      "[ 0.11156058  0.00365175  0.31261274 -0.01632954  0.39082517]\n",
      "[False False False False  True]\n"
     ]
    }
   ],
   "source": [
    "# make predictions\n",
    "y_preds_train = y_probs_train > opt_threshold\n",
    "\n",
    "y_probs_test = model.predict(x_test)\n",
    "y_preds_test = y_probs_test > opt_threshold\n",
    "\n",
    "print y_probs_test[:5]\n",
    "print y_preds_test[:5]"
   ]
  },
  {
   "cell_type": "code",
   "execution_count": 56,
   "metadata": {},
   "outputs": [
    {
     "name": "stdout",
     "output_type": "stream",
     "text": [
      "Test set AUC:  0.639822143432907\n"
     ]
    }
   ],
   "source": [
    "# calculate AUC\n",
    "def calc_auc(x, y, C = 1, penalty = 'l2', tol = 10**-4):\n",
    "    \n",
    "    y_probs = model.predict(x)\n",
    "    fprs, tprs  = [], [] \n",
    "    for threshold in np.arange(step_size,1,step_size):\n",
    "        y_preds = y_probs > threshold\n",
    "        fprs.append(np.sum((y == 0) * (y_preds == 1)) / (np.sum(y == 0, dtype=float) + eps))\n",
    "        tprs.append(np.sum((y == 1) * (y_preds == 1)) / (np.sum(y == 1, dtype=float) + eps))\n",
    "\n",
    "    i_prev = 0.\n",
    "    auc = 0\n",
    "    for i, j in zip(sorted(fprs), sorted(tprs)):\n",
    "        auc += (i - i_prev)*j\n",
    "        i_prev = i\n",
    "    return auc\n",
    "\n",
    "print \"Test set AUC: \", calc_auc(x_test, y_test)"
   ]
  },
  {
   "cell_type": "code",
   "execution_count": 58,
   "metadata": {},
   "outputs": [
    {
     "name": "stdout",
     "output_type": "stream",
     "text": [
      "Training set\n",
      "predicted proportion of defaults:  0.17883860961591097\n",
      "accuracy:  0.8418027552230636\n",
      "\n",
      "Test set\n",
      "predicted proportion of defaults:  0.1946725050173326\n",
      "accuracy:  0.8188286808976464\n",
      "sensivity: 0.5436320754652874\n",
      "specificity: 0.8691992229659633\n"
     ]
    }
   ],
   "source": [
    "# training set statistics\n",
    "print 'Training set'\n",
    "print 'predicted proportion of defaults: ', np.sum(y_preds_train == 1, dtype=float) / len(y_train)\n",
    "print 'accuracy: ', np.sum(y_preds_train == y_train, dtype=float) / len(y_train)\n",
    "\n",
    "# test set statistics\n",
    "print '\\nTest set'\n",
    "print 'predicted proportion of defaults: ', np.sum(y_preds_test == 1,dtype=float) / len(y_test)\n",
    "print 'accuracy: ', np.sum(y_preds_test == y_test, dtype=float) / len(y_test)\n",
    "print 'sensivity:', np.sum((y_test == 1) * (y_preds_test == 1)) / (np.sum(y_test == 1) + eps)\n",
    "print 'specificity:', 1 - np.sum((y_test == 0) * (y_preds_test == 1)) / (np.sum(y_test == 0) + eps)"
   ]
  },
  {
   "cell_type": "code",
   "execution_count": 59,
   "metadata": {},
   "outputs": [
    {
     "name": "stdout",
     "output_type": "stream",
     "text": [
      "precision:  0.432052 \trecall: 0.543632 \tF1 score: 0.481462\n"
     ]
    }
   ],
   "source": [
    "# calculate F1 score\n",
    "precision = np.sum((y_test == 1) * (y_preds_test == 1)) / (np.sum(y_preds_test == 1) + eps)\n",
    "recall = np.sum((y_test == 1) * (y_preds_test == 1)) / (np.sum(y_test == 1) + eps)\n",
    "F1 = 2/(1 / (precision + eps) + 1 / (recall + eps))\n",
    "print \"precision: \", round(precision,6), \"\\trecall:\", round(recall,6), \"\\tF1 score:\", round(F1,6)"
   ]
  },
  {
   "cell_type": "code",
   "execution_count": null,
   "metadata": {},
   "outputs": [],
   "source": []
  }
 ],
 "metadata": {
  "anaconda-cloud": {},
  "kernelspec": {
   "display_name": "Python 2",
   "language": "python",
   "name": "python2"
  },
  "language_info": {
   "codemirror_mode": {
    "name": "ipython",
    "version": 2
   },
   "file_extension": ".py",
   "mimetype": "text/x-python",
   "name": "python",
   "nbconvert_exporter": "python",
   "pygments_lexer": "ipython2",
   "version": "2.7.14"
  }
 },
 "nbformat": 4,
 "nbformat_minor": 1
}
